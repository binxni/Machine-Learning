{
  "cells": [
    {
      "cell_type": "markdown",
      "metadata": {
        "id": "view-in-github",
        "colab_type": "text"
      },
      "source": [
        "<a href=\"https://colab.research.google.com/github/binxni/Machine-Learning/blob/main/Team_1_Code_v4.ipynb\" target=\"_parent\"><img src=\"https://colab.research.google.com/assets/colab-badge.svg\" alt=\"Open In Colab\"/></a>"
      ]
    },
    {
      "cell_type": "code",
      "execution_count": null,
      "id": "955efa65-caa8-4980-aa5a-8ed58c178c95",
      "metadata": {
        "id": "955efa65-caa8-4980-aa5a-8ed58c178c95",
        "outputId": "27455c5c-eaa1-4cb4-92ff-e31550edf592"
      },
      "outputs": [
        {
          "name": "stderr",
          "output_type": "stream",
          "text": [
            "/home/user/anaconda3/envs/kh_ai/lib/python3.11/site-packages/tqdm/auto.py:21: TqdmWarning: IProgress not found. Please update jupyter and ipywidgets. See https://ipywidgets.readthedocs.io/en/stable/user_install.html\n",
            "  from .autonotebook import tqdm as notebook_tqdm\n"
          ]
        },
        {
          "name": "stdout",
          "output_type": "stream",
          "text": [
            "Files already downloaded and verified\n",
            "Files already downloaded and verified\n"
          ]
        },
        {
          "name": "stderr",
          "output_type": "stream",
          "text": [
            "100%|██████████| 1563/1563 [01:46<00:00, 14.66it/s]"
          ]
        },
        {
          "name": "stdout",
          "output_type": "stream",
          "text": [
            "Training on CIFAR-100 dataset with L1 regularization and data augmentation...\n"
          ]
        },
        {
          "name": "stderr",
          "output_type": "stream",
          "text": [
            "\n"
          ]
        }
      ],
      "source": [
        "import torch\n",
        "import torch.nn as nn\n",
        "import torch.nn.functional as F\n",
        "from torchvision import datasets, transforms, models\n",
        "import numpy as np\n",
        "import matplotlib.pyplot as plt\n",
        "from torch.utils.data import DataLoader, ConcatDataset, Dataset\n",
        "from tqdm.auto import tqdm\n",
        "from PIL import Image\n",
        "\n",
        "BATCH_SIZE = 64\n",
        "\n",
        "# L1 정규화 함수 정의\n",
        "def l1_regularization(model, lambda_l1):\n",
        "    l1_norm = sum(p.abs().sum() for p in model.parameters())\n",
        "    return lambda_l1 * l1_norm\n",
        "\n",
        "lambda_l1 = 0.0001  # L1 정규화 강도\n",
        "\n",
        "# 1. Pre-training 단계\n",
        "\n",
        "# 원본 데이터셋에 적용할 변환\n",
        "basic_transform = transforms.Compose([\n",
        "    transforms.Resize((224, 224)),\n",
        "    transforms.ToTensor(),\n",
        "    transforms.Normalize((0.5, 0.5, 0.5), (0.5, 0.5, 0.5))\n",
        "])\n",
        "\n",
        "# 증강된 데이터셋에 적용할 변환\n",
        "augmented_transform = transforms.Compose([\n",
        "    transforms.Resize((224, 224)),\n",
        "    transforms.RandomHorizontalFlip(),\n",
        "    transforms.RandomRotation(15),\n",
        "    transforms.ColorJitter(brightness=0.2, contrast=0.2, saturation=0.2, hue=0.1),\n",
        "    transforms.ToTensor(),\n",
        "    transforms.Normalize((0.5, 0.5, 0.5), (0.5, 0.5, 0.5))\n",
        "])\n",
        "\n",
        "# 원본 CIFAR-100 데이터셋 로드\n",
        "basic_dataset = datasets.CIFAR100(root=\"/data/\", train=True, download=True, transform=basic_transform)\n",
        "\n",
        "# 증강된 CIFAR-100 데이터셋 로드\n",
        "augmented_dataset = datasets.CIFAR100(root=\"/data/\", train=True, download=True, transform=augmented_transform)\n",
        "\n",
        "# 원본과 증강된 데이터셋을 결합\n",
        "combined_dataset = ConcatDataset([basic_dataset, augmented_dataset])\n",
        "\n",
        "# 데이터 로더 생성\n",
        "cifar100_train_loader = DataLoader(combined_dataset, batch_size=BATCH_SIZE, shuffle=True, num_workers=4)\n",
        "\n",
        "# ResNet-18 모델 로드 및 수정 (CIFAR-100에 맞춤)\n",
        "model = models.resnet18(weights=None)\n",
        "model.fc = nn.Linear(model.fc.in_features, 100)  # CIFAR-100에 맞춘 출력층\n",
        "\n",
        "device = torch.device('cuda:1')\n",
        "torch.manual_seed(42)\n",
        "torch.cuda.manual_seed(42)\n",
        "model.to(device)\n",
        "\n",
        "for i, data in enumerate(tqdm(cifar100_train_loader)):\n",
        "    inputs, targets = data[0].to(device), data[1].to(device)\n",
        "\n",
        "criterion = nn.CrossEntropyLoss()\n",
        "optimizer = torch.optim.AdamW(model.parameters(), lr=1e-4, weight_decay=1e-4)\n",
        "\n",
        "\n",
        "\n",
        "def train_model_with_early_stopping(model, train_loader, criterion, optimizer, lambda_l1, num_epochs=100, patience=5, scheduler=None):\n",
        "    model.train()\n",
        "    loss_list = []\n",
        "    acc_list = []\n",
        "    best_loss = float('inf')\n",
        "    early_stop_counter = 0\n",
        "\n",
        "    for epoch in range(num_epochs):\n",
        "        loss_total = 0.0\n",
        "        correct_total = 0\n",
        "        n_iter = 0\n",
        "\n",
        "        for i, data in enumerate(tqdm(train_loader)):\n",
        "            inputs, targets = data[0].to(device), data[1].to(device)\n",
        "            optimizer.zero_grad()\n",
        "            outputs = model(inputs)\n",
        "            loss = criterion(outputs, targets)\n",
        "\n",
        "            # L1 정규화 손실 추가\n",
        "            l1_loss = l1_regularization(model, lambda_l1)\n",
        "            total_loss = loss + l1_loss\n",
        "\n",
        "            total_loss.backward()\n",
        "            optimizer.step()\n",
        "\n",
        "            # 통계 수집\n",
        "            loss_total += total_loss.item()\n",
        "            pred = outputs.argmax(dim=-1)\n",
        "            correct_total += pred.eq(targets).sum().item()\n",
        "            n_iter += 1\n",
        "\n",
        "        epoch_loss = loss_total / n_iter\n",
        "        epoch_acc = correct_total / len(train_loader.dataset)\n",
        "\n",
        "        loss_list.append(epoch_loss)\n",
        "        acc_list.append(epoch_acc)\n",
        "\n",
        "        print(f\"Epoch: {epoch+1} - Loss: {epoch_loss:.3f} - Accuracy: {epoch_acc:.3f}\")\n",
        "\n",
        "        # Early Stopping 체크\n",
        "        if epoch_loss < best_loss:\n",
        "            best_loss = epoch_loss\n",
        "            early_stop_counter = 0\n",
        "        else:\n",
        "            early_stop_counter += 1\n",
        "\n",
        "        if early_stop_counter >= patience:\n",
        "            print(f\"Early stopping triggered after {epoch+1} epochs.\")\n",
        "            break\n",
        "\n",
        "        # 학습률 스케줄러 업데이트\n",
        "        if scheduler:\n",
        "            scheduler.step()\n",
        "\n",
        "    return loss_list, acc_list\n",
        "\n",
        "# CIFAR-100에 대한 Pre-training\n",
        "print(\"Training on CIFAR-100 dataset with L1 regularization and data augmentation...\")\n",
        "\n",
        "\n",
        "\n"
      ]
    },
    {
      "cell_type": "code",
      "execution_count": null,
      "id": "0d9ad7f1-8393-4cc6-a316-c4cc1407ddea",
      "metadata": {
        "scrolled": true,
        "id": "0d9ad7f1-8393-4cc6-a316-c4cc1407ddea",
        "outputId": "97667702-5b09-4c21-a470-4ef6c451c7e6"
      },
      "outputs": [
        {
          "name": "stderr",
          "output_type": "stream",
          "text": [
            "100%|██████████| 1563/1563 [02:08<00:00, 12.15it/s]\n"
          ]
        },
        {
          "name": "stdout",
          "output_type": "stream",
          "text": [
            "Epoch: 1 - Loss: 16.195 - Accuracy: 0.183\n"
          ]
        },
        {
          "name": "stderr",
          "output_type": "stream",
          "text": [
            "100%|██████████| 1563/1563 [02:33<00:00, 10.19it/s]\n"
          ]
        },
        {
          "name": "stdout",
          "output_type": "stream",
          "text": [
            "Epoch: 2 - Loss: 8.739 - Accuracy: 0.323\n"
          ]
        },
        {
          "name": "stderr",
          "output_type": "stream",
          "text": [
            "100%|██████████| 1563/1563 [02:37<00:00,  9.90it/s]\n"
          ]
        },
        {
          "name": "stdout",
          "output_type": "stream",
          "text": [
            "Epoch: 3 - Loss: 6.875 - Accuracy: 0.409\n"
          ]
        },
        {
          "name": "stderr",
          "output_type": "stream",
          "text": [
            "100%|██████████| 1563/1563 [02:06<00:00, 12.37it/s]\n"
          ]
        },
        {
          "name": "stdout",
          "output_type": "stream",
          "text": [
            "Epoch: 4 - Loss: 5.990 - Accuracy: 0.462\n"
          ]
        },
        {
          "name": "stderr",
          "output_type": "stream",
          "text": [
            "100%|██████████| 1563/1563 [02:51<00:00,  9.09it/s]\n"
          ]
        },
        {
          "name": "stdout",
          "output_type": "stream",
          "text": [
            "Epoch: 5 - Loss: 5.425 - Accuracy: 0.505\n"
          ]
        },
        {
          "name": "stderr",
          "output_type": "stream",
          "text": [
            "100%|██████████| 1563/1563 [02:55<00:00,  8.92it/s]\n"
          ]
        },
        {
          "name": "stdout",
          "output_type": "stream",
          "text": [
            "Epoch: 6 - Loss: 5.026 - Accuracy: 0.534\n"
          ]
        },
        {
          "name": "stderr",
          "output_type": "stream",
          "text": [
            "100%|██████████| 1563/1563 [03:18<00:00,  7.88it/s]\n"
          ]
        },
        {
          "name": "stdout",
          "output_type": "stream",
          "text": [
            "Epoch: 7 - Loss: 4.699 - Accuracy: 0.561\n"
          ]
        },
        {
          "name": "stderr",
          "output_type": "stream",
          "text": [
            "100%|██████████| 1563/1563 [03:04<00:00,  8.48it/s]\n"
          ]
        },
        {
          "name": "stdout",
          "output_type": "stream",
          "text": [
            "Epoch: 8 - Loss: 4.453 - Accuracy: 0.581\n"
          ]
        },
        {
          "name": "stderr",
          "output_type": "stream",
          "text": [
            "100%|██████████| 1563/1563 [03:08<00:00,  8.27it/s]\n"
          ]
        },
        {
          "name": "stdout",
          "output_type": "stream",
          "text": [
            "Epoch: 9 - Loss: 4.247 - Accuracy: 0.600\n"
          ]
        },
        {
          "name": "stderr",
          "output_type": "stream",
          "text": [
            "100%|██████████| 1563/1563 [03:04<00:00,  8.45it/s]\n"
          ]
        },
        {
          "name": "stdout",
          "output_type": "stream",
          "text": [
            "Epoch: 10 - Loss: 4.058 - Accuracy: 0.617\n"
          ]
        },
        {
          "name": "stderr",
          "output_type": "stream",
          "text": [
            "100%|██████████| 1563/1563 [03:02<00:00,  8.57it/s]\n"
          ]
        },
        {
          "name": "stdout",
          "output_type": "stream",
          "text": [
            "Epoch: 11 - Loss: 3.896 - Accuracy: 0.631\n"
          ]
        },
        {
          "name": "stderr",
          "output_type": "stream",
          "text": [
            "100%|██████████| 1563/1563 [03:06<00:00,  8.39it/s]\n"
          ]
        },
        {
          "name": "stdout",
          "output_type": "stream",
          "text": [
            "Epoch: 13 - Loss: 3.614 - Accuracy: 0.657\n"
          ]
        },
        {
          "name": "stderr",
          "output_type": "stream",
          "text": [
            "100%|██████████| 1563/1563 [03:05<00:00,  8.42it/s]\n"
          ]
        },
        {
          "name": "stdout",
          "output_type": "stream",
          "text": [
            "Epoch: 14 - Loss: 3.504 - Accuracy: 0.666\n"
          ]
        },
        {
          "name": "stderr",
          "output_type": "stream",
          "text": [
            "100%|██████████| 1563/1563 [02:38<00:00,  9.89it/s]\n"
          ]
        },
        {
          "name": "stdout",
          "output_type": "stream",
          "text": [
            "Epoch: 15 - Loss: 3.409 - Accuracy: 0.677\n"
          ]
        },
        {
          "name": "stderr",
          "output_type": "stream",
          "text": [
            "100%|██████████| 1563/1563 [02:34<00:00, 10.13it/s]\n"
          ]
        },
        {
          "name": "stdout",
          "output_type": "stream",
          "text": [
            "Epoch: 16 - Loss: 3.315 - Accuracy: 0.688\n"
          ]
        },
        {
          "name": "stderr",
          "output_type": "stream",
          "text": [
            "100%|██████████| 1563/1563 [02:37<00:00,  9.95it/s]\n"
          ]
        },
        {
          "name": "stdout",
          "output_type": "stream",
          "text": [
            "Epoch: 17 - Loss: 3.242 - Accuracy: 0.694\n"
          ]
        },
        {
          "name": "stderr",
          "output_type": "stream",
          "text": [
            "100%|██████████| 1563/1563 [02:36<00:00,  9.96it/s]\n"
          ]
        },
        {
          "name": "stdout",
          "output_type": "stream",
          "text": [
            "Epoch: 18 - Loss: 3.174 - Accuracy: 0.704\n"
          ]
        },
        {
          "name": "stderr",
          "output_type": "stream",
          "text": [
            "100%|██████████| 1563/1563 [02:36<00:00,  9.97it/s]\n"
          ]
        },
        {
          "name": "stdout",
          "output_type": "stream",
          "text": [
            "Epoch: 19 - Loss: 3.103 - Accuracy: 0.712\n"
          ]
        },
        {
          "name": "stderr",
          "output_type": "stream",
          "text": [
            "100%|██████████| 1563/1563 [02:40<00:00,  9.72it/s]\n"
          ]
        },
        {
          "name": "stdout",
          "output_type": "stream",
          "text": [
            "Epoch: 20 - Loss: 3.051 - Accuracy: 0.715\n"
          ]
        },
        {
          "name": "stderr",
          "output_type": "stream",
          "text": [
            "100%|██████████| 1563/1563 [02:09<00:00, 12.09it/s]\n"
          ]
        },
        {
          "name": "stdout",
          "output_type": "stream",
          "text": [
            "Epoch: 21 - Loss: 2.992 - Accuracy: 0.725\n"
          ]
        },
        {
          "name": "stderr",
          "output_type": "stream",
          "text": [
            "100%|██████████| 1563/1563 [01:42<00:00, 15.23it/s]\n"
          ]
        },
        {
          "name": "stdout",
          "output_type": "stream",
          "text": [
            "Epoch: 22 - Loss: 2.943 - Accuracy: 0.731\n"
          ]
        },
        {
          "name": "stderr",
          "output_type": "stream",
          "text": [
            "100%|██████████| 1563/1563 [01:42<00:00, 15.23it/s]\n"
          ]
        },
        {
          "name": "stdout",
          "output_type": "stream",
          "text": [
            "Epoch: 23 - Loss: 2.889 - Accuracy: 0.737\n"
          ]
        },
        {
          "name": "stderr",
          "output_type": "stream",
          "text": [
            "100%|██████████| 1563/1563 [01:42<00:00, 15.23it/s]\n"
          ]
        },
        {
          "name": "stdout",
          "output_type": "stream",
          "text": [
            "Epoch: 24 - Loss: 2.849 - Accuracy: 0.744\n"
          ]
        },
        {
          "name": "stderr",
          "output_type": "stream",
          "text": [
            "100%|██████████| 1563/1563 [01:42<00:00, 15.26it/s]\n"
          ]
        },
        {
          "name": "stdout",
          "output_type": "stream",
          "text": [
            "Epoch: 25 - Loss: 2.806 - Accuracy: 0.749\n"
          ]
        },
        {
          "name": "stderr",
          "output_type": "stream",
          "text": [
            "100%|██████████| 1563/1563 [01:42<00:00, 15.22it/s]\n"
          ]
        },
        {
          "name": "stdout",
          "output_type": "stream",
          "text": [
            "Epoch: 26 - Loss: 2.764 - Accuracy: 0.755\n"
          ]
        },
        {
          "name": "stderr",
          "output_type": "stream",
          "text": [
            "100%|██████████| 1563/1563 [01:42<00:00, 15.22it/s]\n"
          ]
        },
        {
          "name": "stdout",
          "output_type": "stream",
          "text": [
            "Epoch: 27 - Loss: 2.733 - Accuracy: 0.759\n"
          ]
        },
        {
          "name": "stderr",
          "output_type": "stream",
          "text": [
            "100%|██████████| 1563/1563 [01:42<00:00, 15.24it/s]\n"
          ]
        },
        {
          "name": "stdout",
          "output_type": "stream",
          "text": [
            "Epoch: 28 - Loss: 2.695 - Accuracy: 0.764\n"
          ]
        },
        {
          "name": "stderr",
          "output_type": "stream",
          "text": [
            "100%|██████████| 1563/1563 [01:42<00:00, 15.24it/s]\n"
          ]
        },
        {
          "name": "stdout",
          "output_type": "stream",
          "text": [
            "Epoch: 29 - Loss: 2.667 - Accuracy: 0.769\n"
          ]
        },
        {
          "name": "stderr",
          "output_type": "stream",
          "text": [
            "100%|██████████| 1563/1563 [01:42<00:00, 15.30it/s]\n"
          ]
        },
        {
          "name": "stdout",
          "output_type": "stream",
          "text": [
            "Epoch: 30 - Loss: 2.636 - Accuracy: 0.774\n"
          ]
        },
        {
          "name": "stderr",
          "output_type": "stream",
          "text": [
            "100%|██████████| 1563/1563 [01:42<00:00, 15.24it/s]\n"
          ]
        },
        {
          "name": "stdout",
          "output_type": "stream",
          "text": [
            "Epoch: 31 - Loss: 2.606 - Accuracy: 0.778\n"
          ]
        },
        {
          "name": "stderr",
          "output_type": "stream",
          "text": [
            "100%|██████████| 1563/1563 [01:42<00:00, 15.23it/s]\n"
          ]
        },
        {
          "name": "stdout",
          "output_type": "stream",
          "text": [
            "Epoch: 32 - Loss: 2.579 - Accuracy: 0.782\n"
          ]
        },
        {
          "name": "stderr",
          "output_type": "stream",
          "text": [
            "100%|██████████| 1563/1563 [01:42<00:00, 15.25it/s]\n"
          ]
        },
        {
          "name": "stdout",
          "output_type": "stream",
          "text": [
            "Epoch: 35 - Loss: 2.505 - Accuracy: 0.793\n"
          ]
        },
        {
          "name": "stderr",
          "output_type": "stream",
          "text": [
            "100%|██████████| 1563/1563 [01:43<00:00, 15.16it/s]\n"
          ]
        },
        {
          "name": "stdout",
          "output_type": "stream",
          "text": [
            "Epoch: 36 - Loss: 2.484 - Accuracy: 0.796\n"
          ]
        },
        {
          "name": "stderr",
          "output_type": "stream",
          "text": [
            "100%|██████████| 1563/1563 [01:42<00:00, 15.25it/s]\n"
          ]
        },
        {
          "name": "stdout",
          "output_type": "stream",
          "text": [
            "Epoch: 37 - Loss: 2.463 - Accuracy: 0.799\n"
          ]
        },
        {
          "name": "stderr",
          "output_type": "stream",
          "text": [
            "100%|██████████| 1563/1563 [01:42<00:00, 15.20it/s]\n"
          ]
        },
        {
          "name": "stdout",
          "output_type": "stream",
          "text": [
            "Epoch: 38 - Loss: 2.444 - Accuracy: 0.802\n"
          ]
        },
        {
          "name": "stderr",
          "output_type": "stream",
          "text": [
            "100%|██████████| 1563/1563 [01:42<00:00, 15.22it/s]\n"
          ]
        },
        {
          "name": "stdout",
          "output_type": "stream",
          "text": [
            "Epoch: 39 - Loss: 2.423 - Accuracy: 0.806\n"
          ]
        },
        {
          "name": "stderr",
          "output_type": "stream",
          "text": [
            "100%|██████████| 1563/1563 [01:42<00:00, 15.19it/s]\n"
          ]
        },
        {
          "name": "stdout",
          "output_type": "stream",
          "text": [
            "Epoch: 40 - Loss: 2.400 - Accuracy: 0.809\n"
          ]
        },
        {
          "name": "stderr",
          "output_type": "stream",
          "text": [
            "100%|██████████| 1563/1563 [01:43<00:00, 15.09it/s]\n"
          ]
        },
        {
          "name": "stdout",
          "output_type": "stream",
          "text": [
            "Epoch: 41 - Loss: 2.385 - Accuracy: 0.811\n"
          ]
        },
        {
          "name": "stderr",
          "output_type": "stream",
          "text": [
            "100%|██████████| 1563/1563 [01:44<00:00, 14.89it/s]\n"
          ]
        },
        {
          "name": "stdout",
          "output_type": "stream",
          "text": [
            "Epoch: 42 - Loss: 2.360 - Accuracy: 0.815\n"
          ]
        },
        {
          "name": "stderr",
          "output_type": "stream",
          "text": [
            "100%|██████████| 1563/1563 [01:46<00:00, 14.64it/s]\n"
          ]
        },
        {
          "name": "stdout",
          "output_type": "stream",
          "text": [
            "Epoch: 43 - Loss: 2.343 - Accuracy: 0.818\n"
          ]
        },
        {
          "name": "stderr",
          "output_type": "stream",
          "text": [
            "100%|██████████| 1563/1563 [01:49<00:00, 14.30it/s]\n"
          ]
        },
        {
          "name": "stdout",
          "output_type": "stream",
          "text": [
            "Epoch: 49 - Loss: 2.247 - Accuracy: 0.830\n"
          ]
        },
        {
          "name": "stderr",
          "output_type": "stream",
          "text": [
            "100%|██████████| 1563/1563 [01:48<00:00, 14.36it/s]\n"
          ]
        },
        {
          "name": "stdout",
          "output_type": "stream",
          "text": [
            "Epoch: 50 - Loss: 2.233 - Accuracy: 0.832\n"
          ]
        },
        {
          "name": "stderr",
          "output_type": "stream",
          "text": [
            "100%|██████████| 1563/1563 [01:49<00:00, 14.25it/s]\n"
          ]
        },
        {
          "name": "stdout",
          "output_type": "stream",
          "text": [
            "Epoch: 51 - Loss: 2.217 - Accuracy: 0.832\n"
          ]
        },
        {
          "name": "stderr",
          "output_type": "stream",
          "text": [
            "100%|██████████| 1563/1563 [01:49<00:00, 14.32it/s]\n"
          ]
        },
        {
          "name": "stdout",
          "output_type": "stream",
          "text": [
            "Epoch: 52 - Loss: 2.207 - Accuracy: 0.833\n"
          ]
        },
        {
          "name": "stderr",
          "output_type": "stream",
          "text": [
            "100%|██████████| 1563/1563 [01:48<00:00, 14.38it/s]\n"
          ]
        },
        {
          "name": "stdout",
          "output_type": "stream",
          "text": [
            "Epoch: 53 - Loss: 2.186 - Accuracy: 0.839\n"
          ]
        },
        {
          "name": "stderr",
          "output_type": "stream",
          "text": [
            "100%|██████████| 1563/1563 [01:49<00:00, 14.26it/s]\n"
          ]
        },
        {
          "name": "stdout",
          "output_type": "stream",
          "text": [
            "Epoch: 54 - Loss: 2.177 - Accuracy: 0.840\n"
          ]
        },
        {
          "name": "stderr",
          "output_type": "stream",
          "text": [
            "100%|██████████| 1563/1563 [01:48<00:00, 14.45it/s]\n"
          ]
        },
        {
          "name": "stdout",
          "output_type": "stream",
          "text": [
            "Epoch: 55 - Loss: 2.164 - Accuracy: 0.840\n"
          ]
        },
        {
          "name": "stderr",
          "output_type": "stream",
          "text": [
            "100%|██████████| 1563/1563 [01:48<00:00, 14.40it/s]\n"
          ]
        },
        {
          "name": "stdout",
          "output_type": "stream",
          "text": [
            "Epoch: 56 - Loss: 2.147 - Accuracy: 0.843\n"
          ]
        },
        {
          "name": "stderr",
          "output_type": "stream",
          "text": [
            "100%|██████████| 1563/1563 [01:49<00:00, 14.28it/s]\n"
          ]
        },
        {
          "name": "stdout",
          "output_type": "stream",
          "text": [
            "Epoch: 57 - Loss: 2.142 - Accuracy: 0.842\n"
          ]
        },
        {
          "name": "stderr",
          "output_type": "stream",
          "text": [
            "100%|██████████| 1563/1563 [01:48<00:00, 14.41it/s]\n"
          ]
        },
        {
          "name": "stdout",
          "output_type": "stream",
          "text": [
            "Epoch: 58 - Loss: 2.126 - Accuracy: 0.844\n"
          ]
        },
        {
          "name": "stderr",
          "output_type": "stream",
          "text": [
            " 77%|███████▋  | 1207/1563 [01:23<00:24, 14.65it/s]"
          ]
        }
      ],
      "source": [
        "train_model_with_early_stopping(model, cifar100_train_loader, criterion, optimizer, lambda_l1, num_epochs=100)"
      ]
    },
    {
      "cell_type": "code",
      "execution_count": null,
      "id": "1719df04-0fbb-4817-800d-1054dc64cb1c",
      "metadata": {
        "id": "1719df04-0fbb-4817-800d-1054dc64cb1c",
        "outputId": "87a8ce6a-56de-4cfa-d166-d223e7bda102"
      },
      "outputs": [
        {
          "name": "stderr",
          "output_type": "stream",
          "text": [
            "/tmp/ipykernel_572738/2496417660.py:4: FutureWarning: You are using `torch.load` with `weights_only=False` (the current default value), which uses the default pickle module implicitly. It is possible to construct malicious pickle data which will execute arbitrary code during unpickling (See https://github.com/pytorch/pytorch/blob/main/SECURITY.md#untrusted-models for more details). In a future release, the default value for `weights_only` will be flipped to `True`. This limits the functions that could be executed during unpickling. Arbitrary objects will no longer be allowed to be loaded via this mode unless they are explicitly allowlisted by the user via `torch.serialization.add_safe_globals`. We recommend you start setting `weights_only=True` for any use case where you don't have full control of the loaded file. Please open an issue on GitHub for any issues related to this experimental feature.\n",
            "  model = torch.load('/home/Data_Drive_8TB_3/ch2860/pytorch/cifar100_full_model_2.pth')\n"
          ]
        }
      ],
      "source": [
        "torch.save(model, '/data/cifar100_full_model_2.pth')\n",
        "\n",
        "# 2. Fine-tuning 단계에서 모델 불러오기\n",
        "model = torch.load('/data/cifar100_full_model_2.pth')"
      ]
    },
    {
      "cell_type": "markdown",
      "id": "9d03e980-84a5-44d4-8345-b47532afdc81",
      "metadata": {
        "id": "9d03e980-84a5-44d4-8345-b47532afdc81"
      },
      "source": [
        "<!-- # 데이터 증강 강화 (Fine-tuning 시)\n",
        "cub_bird_transform = transforms.Compose([\n",
        "    transforms.ToPILImage(),\n",
        "    transforms.RandomResizedCrop(224, scale=(0.8, 1.0)),\n",
        "    transforms.RandomHorizontalFlip(),\n",
        "    transforms.RandomRotation(30),\n",
        "    transforms.ColorJitter(brightness=0.2, contrast=0.2, saturation=0.2, hue=0.1),\n",
        "    transforms.ToTensor(),\n",
        "    transforms.Normalize((0.485, 0.456, 0.406), (0.229, 0.224, 0.225))\n",
        "])\n",
        "\n",
        "cub_train_dataset = CUB_Dataset(img_file=\"/home/Data_Drive_8TB_3/ch2860/pytorch/CUB_train_images.npy\",\n",
        "                                label_file=\"/home/Data_Drive_8TB_3/ch2860/pytorch/CUB_train_labels.npy\", transform=cub_bird_transform)\n",
        "cub_train_loader = torch.utils.data.DataLoader(cub_train_dataset, batch_size=BATCH_SIZE, shuffle=True, num_workers=4)\n",
        " -->"
      ]
    },
    {
      "cell_type": "code",
      "execution_count": null,
      "id": "30c567d4-6078-4b5e-a673-0af6e4994dbf",
      "metadata": {
        "id": "30c567d4-6078-4b5e-a673-0af6e4994dbf"
      },
      "outputs": [],
      "source": [
        "# Gaussian 노이즈 추가를 위한 클래스\n",
        "class AddGaussianNoise(object):\n",
        "    def __init__(self, mean=0., std=1.):\n",
        "        self.mean = mean\n",
        "        self.std = std\n",
        "\n",
        "    def __call__(self, tensor):\n",
        "        return tensor + torch.randn(tensor.size()) * self.std + self.mean\n",
        "\n",
        "    def __repr__(self):\n",
        "        return self.__class__.__name__ + f'(mean={self.mean}, std={self.std})'\n",
        "\n",
        "# CUB-200 데이터셋 로드 클래스\n",
        "class CUB200Dataset(Dataset):\n",
        "    def __init__(self, images_path, labels_path, transform=None):\n",
        "        self.images = np.load(images_path)\n",
        "        self.labels = np.load(labels_path)\n",
        "        self.transform = transform\n",
        "\n",
        "    def __len__(self):\n",
        "        return len(self.images)\n",
        "\n",
        "    def __getitem__(self, idx):\n",
        "        image = self.images[idx]\n",
        "        label = self.labels[idx]\n",
        "\n",
        "        # 데이터 타입을 uint8로 변환\n",
        "        image = (image * 255).astype(np.uint8)  # 이미지를 [0, 255] 범위로 변환\n",
        "\n",
        "        image = Image.fromarray(image)\n",
        "\n",
        "        if self.transform:\n",
        "            image = self.transform(image)\n",
        "\n",
        "        return image, label\n",
        "\n",
        "\n",
        "\n",
        "\n",
        "# 기본 변환 (원본 이미지에만 적용)\n",
        "transform_original = transforms.Compose([\n",
        "    transforms.ToTensor(),\n",
        "    transforms.Normalize((0.485, 0.456, 0.406), (0.229, 0.224, 0.225))\n",
        "])\n",
        "\n",
        "# 각 증강 기법을 적용한 변환들\n",
        "transform_flip = transforms.Compose([\n",
        "    transforms.RandomHorizontalFlip(p=1.0),  # 항상 수평 뒤집기\n",
        "    transforms.ToTensor(),\n",
        "    transforms.Normalize((0.485, 0.456, 0.406), (0.229, 0.224, 0.225))\n",
        "])\n",
        "\n",
        "transform_rotation = transforms.Compose([\n",
        "    transforms.RandomRotation(15),  # 15도 내에서 회전\n",
        "    transforms.ToTensor(),\n",
        "    transforms.Normalize((0.485, 0.456, 0.406), (0.229, 0.224, 0.225))\n",
        "])\n",
        "\n",
        "transform_color_jitter = transforms.Compose([\n",
        "    transforms.ColorJitter(brightness=0.2, contrast=0.2, saturation=0.2, hue=0.1),\n",
        "    transforms.ToTensor(),\n",
        "    transforms.Normalize((0.485, 0.456, 0.406), (0.229, 0.224, 0.225))\n",
        "])\n",
        "\n",
        "transform_random_resized_crop = transforms.Compose([\n",
        "    transforms.RandomResizedCrop(224, scale=(0.8, 1.0)),\n",
        "    transforms.ToTensor(),\n",
        "    transforms.Normalize((0.485, 0.456, 0.406), (0.229, 0.224, 0.225))\n",
        "])\n",
        "\n",
        "transform_random_grayscale = transforms.Compose([\n",
        "    transforms.RandomGrayscale(p=1.0),  # 그레이스케일 적용\n",
        "    transforms.ToTensor(),\n",
        "    transforms.Normalize((0.485, 0.456, 0.406), (0.229, 0.224, 0.225))\n",
        "])\n",
        "\n",
        "transform_gaussian_noise = transforms.Compose([\n",
        "    transforms.ToTensor(),\n",
        "    AddGaussianNoise(mean=0.0, std=0.1),  # 표준편차 0.1로 가우시안 노이즈 추가\n",
        "    transforms.Normalize((0.485, 0.456, 0.406), (0.229, 0.224, 0.225))\n",
        "])\n",
        "\n",
        "\n",
        "# 데이터셋 로드\n",
        "original_dataset = CUB200Dataset('/data/CUB_train_images.npy', '/data/CUB_train_labels.npy', transform=transform_original)\n",
        "flip_dataset = CUB200Dataset('/data/CUB_train_images.npy', '/data/CUB_train_labels.npy', transform=transform_flip)\n",
        "rotation_dataset = CUB200Dataset('/data/CUB_train_images.npy', '/data/CUB_train_labels.npy', transform=transform_rotation)\n",
        "color_jitter_dataset = CUB200Dataset('/data/CUB_train_images.npy', '/data/CUB_train_labels.npy', transform=transform_color_jitter)\n",
        "random_resized_crop_dataset = CUB200Dataset('/data/CUB_train_images.npy', '/data/CUB_train_labels.npy', transform=transform_random_resized_crop)\n",
        "random_grayscale_dataset = CUB200Dataset('/data/CUB_train_images.npy', '/data/CUB_train_labels.npy', transform=transform_random_grayscale)\n",
        "gaussian_noise_dataset = CUB200Dataset('/data/CUB_train_images.npy', '/data/CUB_train_labels.npy', transform=transform_gaussian_noise)\n",
        "\n",
        "# 여러 데이터셋을 결합\n",
        "combined_dataset = ConcatDataset([original_dataset, flip_dataset, rotation_dataset, color_jitter_dataset, random_resized_crop_dataset, random_grayscale_dataset, gaussian_noise_dataset])\n",
        "\n",
        "# DataLoader 생성\n",
        "train_loader = DataLoader(combined_dataset, batch_size=64, shuffle=True, num_workers=4)\n"
      ]
    },
    {
      "cell_type": "code",
      "execution_count": null,
      "id": "60bc3408-8df3-42f8-aa4a-fbe3f4e57457",
      "metadata": {
        "id": "60bc3408-8df3-42f8-aa4a-fbe3f4e57457"
      },
      "outputs": [],
      "source": [
        "# DataLoader 생성\n",
        "cub_train_loader = DataLoader(combined_dataset, batch_size=64, shuffle=True, num_workers=4)"
      ]
    },
    {
      "cell_type": "code",
      "execution_count": null,
      "id": "c4f52f56-a568-4da6-9823-85601d28f1b8",
      "metadata": {
        "id": "c4f52f56-a568-4da6-9823-85601d28f1b8"
      },
      "outputs": [],
      "source": [
        "class CUB_Dataset(Dataset):\n",
        "    def __init__(self, img_file, label_file, transform=None):\n",
        "        self.img = np.load(img_file)\n",
        "        self.labels = np.load(label_file)\n",
        "        self.transform = transform\n",
        "\n",
        "    def __len__(self):\n",
        "        return len(self.img)\n",
        "\n",
        "    def __getitem__(self, idx):\n",
        "        image = self.img[idx]\n",
        "        if self.transform:\n",
        "            image = self.transform(image)\n",
        "        label = self.labels[idx]\n",
        "        return image, label\n",
        "\n",
        "\n",
        "cub_bird_transform = transforms.Compose([\n",
        "    transforms.ToPILImage(),\n",
        "    transforms.Resize((224, 224)),\n",
        "    transforms.ToTensor(),\n",
        "    transforms.Normalize((0.485, 0.456, 0.406), (0.229, 0.224, 0.225))\n",
        "])\n",
        "\n",
        "\n",
        "cub_val_dataset = CUB_Dataset(img_file=\"/data/CUB_val_images.npy\",\n",
        "                              label_file=\"/data/CUB_val_labels.npy\", transform=cub_bird_transform)\n",
        "cub_val_loader = torch.utils.data.DataLoader(cub_val_dataset, batch_size=BATCH_SIZE, shuffle=False, num_workers=4)\n"
      ]
    },
    {
      "cell_type": "code",
      "execution_count": null,
      "id": "1b5c00c5-490f-444d-b4c3-e81a10c491a0",
      "metadata": {
        "id": "1b5c00c5-490f-444d-b4c3-e81a10c491a0",
        "outputId": "409e9354-4490-4beb-efa2-879afccc7a65"
      },
      "outputs": [
        {
          "name": "stderr",
          "output_type": "stream",
          "text": [
            "/tmp/ipykernel_572738/475163752.py:23: FutureWarning: You are using `torch.load` with `weights_only=False` (the current default value), which uses the default pickle module implicitly. It is possible to construct malicious pickle data which will execute arbitrary code during unpickling (See https://github.com/pytorch/pytorch/blob/main/SECURITY.md#untrusted-models for more details). In a future release, the default value for `weights_only` will be flipped to `True`. This limits the functions that could be executed during unpickling. Arbitrary objects will no longer be allowed to be loaded via this mode unless they are explicitly allowlisted by the user via `torch.serialization.add_safe_globals`. We recommend you start setting `weights_only=True` for any use case where you don't have full control of the loaded file. Please open an issue on GitHub for any issues related to this experimental feature.\n",
            "  pretrained_model = torch.load('/home/Data_Drive_8TB_3/ch2860/pytorch/cifar100_full_model.pth')\n",
            "100%|██████████| 656/656 [00:22<00:00, 29.61it/s]\n"
          ]
        }
      ],
      "source": [
        "# Pre-training 단계에서 저장된 모델 가중치를 불러오기\n",
        "pretrained_model = torch.load('/data/cifar100_full_model.pth')\n",
        "pretrained_model = pretrained_model.to('cuda:1')\n",
        "\n",
        "# Fine-tuning을 위해 새로운 모델 정의 (Dropout 추가)\n",
        "class ModifiedResNet18(nn.Module):\n",
        "    def __init__(self, pretrained_model, num_classes=200):\n",
        "        super(ModifiedResNet18, self).__init__()\n",
        "        self.model = pretrained_model\n",
        "        # pretrained_model.fc는 nn.Linear로 정의되어 있으므로 직접 접근\n",
        "        in_features = self.model.fc.in_features\n",
        "        self.model.fc = nn.Sequential(\n",
        "            nn.Dropout(0.3),  # Dropout 추가\n",
        "            nn.Linear(in_features, num_classes)  # CUB-200에 맞춘 출력층\n",
        "        )\n",
        "\n",
        "    def forward(self, x):\n",
        "        return self.model(x)\n",
        "\n",
        "# Fine-tuning을 위한 모델 정의 및 준비\n",
        "model = ModifiedResNet18(pretrained_model=pretrained_model, num_classes=200)\n",
        "\n",
        "device = torch.device('cuda:1')\n",
        "torch.manual_seed(42)\n",
        "torch.cuda.manual_seed(42)\n",
        "model.to(device)\n",
        "\n",
        "for i, data in enumerate(tqdm(cub_train_loader)):\n",
        "    inputs, targets = data[0].to(device), data[1].to(device)\n"
      ]
    },
    {
      "cell_type": "code",
      "execution_count": null,
      "id": "737e2df8-3810-4ea2-a89b-7afc1bb61df3",
      "metadata": {
        "id": "737e2df8-3810-4ea2-a89b-7afc1bb61df3",
        "outputId": "9f49a366-ed0a-4f0c-e9d8-f94243b08965"
      },
      "outputs": [
        {
          "name": "stdout",
          "output_type": "stream",
          "text": [
            "Fine-tuning on CUB-200 dataset with data augmentation, dropout, and learning rate scheduling...\n"
          ]
        },
        {
          "name": "stderr",
          "output_type": "stream",
          "text": [
            "100%|██████████| 656/656 [00:44<00:00, 14.77it/s]\n"
          ]
        },
        {
          "name": "stdout",
          "output_type": "stream",
          "text": [
            "Epoch: 1 - Loss: 5.504 - Accuracy: 0.191\n"
          ]
        },
        {
          "name": "stderr",
          "output_type": "stream",
          "text": [
            "100%|██████████| 656/656 [00:44<00:00, 14.62it/s]\n"
          ]
        },
        {
          "name": "stdout",
          "output_type": "stream",
          "text": [
            "Epoch: 2 - Loss: 3.807 - Accuracy: 0.553\n"
          ]
        },
        {
          "name": "stderr",
          "output_type": "stream",
          "text": [
            "100%|██████████| 656/656 [00:43<00:00, 15.05it/s]\n"
          ]
        },
        {
          "name": "stdout",
          "output_type": "stream",
          "text": [
            "Epoch: 3 - Loss: 2.886 - Accuracy: 0.781\n"
          ]
        },
        {
          "name": "stderr",
          "output_type": "stream",
          "text": [
            "100%|██████████| 656/656 [00:43<00:00, 15.12it/s]\n"
          ]
        },
        {
          "name": "stdout",
          "output_type": "stream",
          "text": [
            "Epoch: 4 - Loss: 2.420 - Accuracy: 0.876\n"
          ]
        },
        {
          "name": "stderr",
          "output_type": "stream",
          "text": [
            "100%|██████████| 656/656 [00:43<00:00, 15.15it/s]\n"
          ]
        },
        {
          "name": "stdout",
          "output_type": "stream",
          "text": [
            "Epoch: 5 - Loss: 2.188 - Accuracy: 0.921\n"
          ]
        },
        {
          "name": "stderr",
          "output_type": "stream",
          "text": [
            "100%|██████████| 656/656 [00:42<00:00, 15.28it/s]\n"
          ]
        },
        {
          "name": "stdout",
          "output_type": "stream",
          "text": [
            "Epoch: 6 - Loss: 2.052 - Accuracy: 0.940\n"
          ]
        },
        {
          "name": "stderr",
          "output_type": "stream",
          "text": [
            "100%|██████████| 656/656 [00:43<00:00, 15.18it/s]\n"
          ]
        },
        {
          "name": "stdout",
          "output_type": "stream",
          "text": [
            "Epoch: 7 - Loss: 1.977 - Accuracy: 0.948\n"
          ]
        },
        {
          "name": "stderr",
          "output_type": "stream",
          "text": [
            "100%|██████████| 656/656 [00:44<00:00, 14.81it/s]\n"
          ]
        },
        {
          "name": "stdout",
          "output_type": "stream",
          "text": [
            "Epoch: 8 - Loss: 1.922 - Accuracy: 0.956\n"
          ]
        },
        {
          "name": "stderr",
          "output_type": "stream",
          "text": [
            "100%|██████████| 656/656 [00:43<00:00, 14.94it/s]\n"
          ]
        },
        {
          "name": "stdout",
          "output_type": "stream",
          "text": [
            "Epoch: 9 - Loss: 1.882 - Accuracy: 0.957\n"
          ]
        },
        {
          "name": "stderr",
          "output_type": "stream",
          "text": [
            "100%|██████████| 656/656 [00:43<00:00, 15.12it/s]\n"
          ]
        },
        {
          "name": "stdout",
          "output_type": "stream",
          "text": [
            "Epoch: 10 - Loss: 1.859 - Accuracy: 0.958\n"
          ]
        },
        {
          "name": "stderr",
          "output_type": "stream",
          "text": [
            "100%|██████████| 656/656 [00:43<00:00, 15.09it/s]\n"
          ]
        },
        {
          "name": "stdout",
          "output_type": "stream",
          "text": [
            "Epoch: 11 - Loss: 1.826 - Accuracy: 0.961\n"
          ]
        },
        {
          "name": "stderr",
          "output_type": "stream",
          "text": [
            "100%|██████████| 656/656 [00:42<00:00, 15.27it/s]\n"
          ]
        },
        {
          "name": "stdout",
          "output_type": "stream",
          "text": [
            "Epoch: 12 - Loss: 1.797 - Accuracy: 0.962\n"
          ]
        },
        {
          "name": "stderr",
          "output_type": "stream",
          "text": [
            "100%|██████████| 656/656 [00:43<00:00, 15.19it/s]\n"
          ]
        },
        {
          "name": "stdout",
          "output_type": "stream",
          "text": [
            "Epoch: 13 - Loss: 1.766 - Accuracy: 0.964\n"
          ]
        },
        {
          "name": "stderr",
          "output_type": "stream",
          "text": [
            "100%|██████████| 656/656 [00:43<00:00, 15.26it/s]\n"
          ]
        },
        {
          "name": "stdout",
          "output_type": "stream",
          "text": [
            "Epoch: 14 - Loss: 1.766 - Accuracy: 0.962\n"
          ]
        },
        {
          "name": "stderr",
          "output_type": "stream",
          "text": [
            "100%|██████████| 656/656 [00:42<00:00, 15.30it/s]\n"
          ]
        },
        {
          "name": "stdout",
          "output_type": "stream",
          "text": [
            "Epoch: 15 - Loss: 1.713 - Accuracy: 0.971\n"
          ]
        },
        {
          "name": "stderr",
          "output_type": "stream",
          "text": [
            "100%|██████████| 656/656 [00:43<00:00, 15.11it/s]\n"
          ]
        },
        {
          "name": "stdout",
          "output_type": "stream",
          "text": [
            "Epoch: 16 - Loss: 1.730 - Accuracy: 0.963\n"
          ]
        },
        {
          "name": "stderr",
          "output_type": "stream",
          "text": [
            "100%|██████████| 656/656 [00:43<00:00, 15.21it/s]\n"
          ]
        },
        {
          "name": "stdout",
          "output_type": "stream",
          "text": [
            "Epoch: 17 - Loss: 1.707 - Accuracy: 0.965\n"
          ]
        },
        {
          "name": "stderr",
          "output_type": "stream",
          "text": [
            "100%|██████████| 656/656 [00:43<00:00, 15.15it/s]\n"
          ]
        },
        {
          "name": "stdout",
          "output_type": "stream",
          "text": [
            "Epoch: 18 - Loss: 1.684 - Accuracy: 0.967\n"
          ]
        },
        {
          "name": "stderr",
          "output_type": "stream",
          "text": [
            "100%|██████████| 656/656 [00:43<00:00, 15.07it/s]\n"
          ]
        },
        {
          "name": "stdout",
          "output_type": "stream",
          "text": [
            "Epoch: 19 - Loss: 1.671 - Accuracy: 0.966\n"
          ]
        },
        {
          "name": "stderr",
          "output_type": "stream",
          "text": [
            "100%|██████████| 656/656 [00:43<00:00, 15.09it/s]\n"
          ]
        },
        {
          "name": "stdout",
          "output_type": "stream",
          "text": [
            "Epoch: 20 - Loss: 1.659 - Accuracy: 0.967\n"
          ]
        },
        {
          "name": "stderr",
          "output_type": "stream",
          "text": [
            "100%|██████████| 656/656 [00:42<00:00, 15.31it/s]\n"
          ]
        },
        {
          "name": "stdout",
          "output_type": "stream",
          "text": [
            "Epoch: 21 - Loss: 1.645 - Accuracy: 0.967\n"
          ]
        },
        {
          "name": "stderr",
          "output_type": "stream",
          "text": [
            "100%|██████████| 656/656 [00:43<00:00, 15.24it/s]\n"
          ]
        },
        {
          "name": "stdout",
          "output_type": "stream",
          "text": [
            "Epoch: 22 - Loss: 1.637 - Accuracy: 0.968\n"
          ]
        },
        {
          "name": "stderr",
          "output_type": "stream",
          "text": [
            "100%|██████████| 656/656 [00:42<00:00, 15.28it/s]\n"
          ]
        },
        {
          "name": "stdout",
          "output_type": "stream",
          "text": [
            "Epoch: 23 - Loss: 1.613 - Accuracy: 0.970\n"
          ]
        },
        {
          "name": "stderr",
          "output_type": "stream",
          "text": [
            "100%|██████████| 656/656 [00:43<00:00, 15.20it/s]\n"
          ]
        },
        {
          "name": "stdout",
          "output_type": "stream",
          "text": [
            "Epoch: 24 - Loss: 1.613 - Accuracy: 0.967\n"
          ]
        },
        {
          "name": "stderr",
          "output_type": "stream",
          "text": [
            "100%|██████████| 656/656 [00:42<00:00, 15.27it/s]\n"
          ]
        },
        {
          "name": "stdout",
          "output_type": "stream",
          "text": [
            "Epoch: 25 - Loss: 1.609 - Accuracy: 0.967\n"
          ]
        }
      ],
      "source": [
        "# Optimizer와 Learning Rate Scheduler 설정\n",
        "optimizer = torch.optim.AdamW(model.parameters(), lr=1e-4, weight_decay=5e-5)\n",
        "scheduler = torch.optim.lr_scheduler.CosineAnnealingLR(optimizer, T_max=10)\n",
        "\n",
        "# Fine-tuning 수행\n",
        "print(\"Fine-tuning on CUB-200 dataset with data augmentation, dropout, and learning rate scheduling...\")\n",
        "loss_list, acc_list =  train_model_with_early_stopping(model, cub_train_loader, criterion, optimizer, lambda_l1, num_epochs=25)\n"
      ]
    },
    {
      "cell_type": "code",
      "execution_count": null,
      "id": "fdddaa9c-0d72-4259-9f25-dc51084898c8",
      "metadata": {
        "id": "fdddaa9c-0d72-4259-9f25-dc51084898c8",
        "outputId": "5cc7b14a-2528-427f-f25c-9d068cf0d288"
      },
      "outputs": [
        {
          "data": {
            "image/png": "[encoded data removed]",
            "text/plain": [
              "<Figure size 1200x500 with 2 Axes>"
            ]
          },
          "metadata": {},
          "output_type": "display_data"
        },
        {
          "name": "stdout",
          "output_type": "stream",
          "text": [
            "Accuracy of the network on the validation images: 28.55 %\n"
          ]
        },
        {
          "data": {
            "text/plain": [
              "28.546772523299964"
            ]
          },
          "execution_count": 54,
          "metadata": {},
          "output_type": "execute_result"
        }
      ],
      "source": [
        "\n",
        "# 학습 손실 및 정확도 시각화\n",
        "epochs = range(1, len(loss_list) + 1)\n",
        "plt.figure(figsize=(12, 5))\n",
        "\n",
        "plt.subplot(1, 2, 1)\n",
        "plt.plot(epochs, loss_list, 'bo-', label='Training Loss')\n",
        "plt.title('Training Loss per Epoch')\n",
        "plt.xlabel('Epochs')\n",
        "plt.ylabel('Loss')\n",
        "plt.legend()\n",
        "\n",
        "plt.subplot(1, 2, 2)\n",
        "plt.plot(epochs, acc_list, 'go-', label='Training Accuracy')\n",
        "plt.title('Training Accuracy per Epoch')\n",
        "plt.xlabel('Epochs')\n",
        "plt.ylabel('Accuracy')\n",
        "plt.legend()\n",
        "\n",
        "plt.show()\n",
        "\n",
        "# 모델 평가\n",
        "evaluate_model(model, cub_val_loader)"
      ]
    },
    {
      "cell_type": "code",
      "execution_count": null,
      "id": "6f745501-a74d-4840-8f53-7d72d1ae9278",
      "metadata": {
        "id": "6f745501-a74d-4840-8f53-7d72d1ae9278",
        "outputId": "5daa6ca7-5432-40f6-bbe3-4ccaedb5c8c6"
      },
      "outputs": [
        {
          "name": "stdout",
          "output_type": "stream",
          "text": [
            "Accuracy of the network on the validation images: 28.55 %\n"
          ]
        },
        {
          "data": {
            "text/plain": [
              "28.546772523299964"
            ]
          },
          "execution_count": 55,
          "metadata": {},
          "output_type": "execute_result"
        }
      ],
      "source": [
        "def evaluate_model(model, val_loader):\n",
        "    model.eval()\n",
        "    correct = 0\n",
        "    total = 0\n",
        "    with torch.no_grad():\n",
        "        for data in val_loader:\n",
        "            images, labels = data\n",
        "            outputs = model(images.to(device))\n",
        "            _, predicted = torch.max(outputs.data, 1)\n",
        "            total += labels.size(0)\n",
        "            correct += (predicted.cpu() == labels).sum().item()\n",
        "\n",
        "    accuracy = 100 * correct / total\n",
        "    print(f'Accuracy of the network on the validation images: {accuracy:.2f} %')\n",
        "    return accuracy\n",
        "\n",
        "evaluate_model(model, cub_val_loader)"
      ]
    },
    {
      "cell_type": "code",
      "execution_count": null,
      "id": "c71fbbf8-789c-4dd8-b647-210592eae06e",
      "metadata": {
        "id": "c71fbbf8-789c-4dd8-b647-210592eae06e"
      },
      "outputs": [],
      "source": [
        "class TestDataset(Dataset):\n",
        "    def __init__(self, img_file, transform=None):\n",
        "        self.img =np.load(img_file)\n",
        "        self.transform = transform\n",
        "\n",
        "    def __len__(self):\n",
        "        return len(self.img)\n",
        "\n",
        "    def __getitem__(self, idx):\n",
        "        image = self.img[idx]\n",
        "        if self.transform is not None:\n",
        "            image = self.transform(image)\n",
        "\n",
        "        return image\n",
        "\n",
        "test_transform = transforms.Compose([\n",
        "        transforms.ToTensor(),\n",
        "        transforms.Normalize((0.485, 0.456, 0.406), (0.229, 0.224, 0.225))\n",
        "])\n",
        "\n",
        "test_dataset = TestDataset(img_file=\"/data/CUB_test_images.npy\",transform=test_transform)\n",
        "test_loader = torch.utils.data.DataLoader(test_dataset, batch_size=BATCH_SIZE,\n",
        "                                         shuffle=False, num_workers=2)"
      ]
    },
    {
      "cell_type": "code",
      "execution_count": null,
      "id": "4d857368-98f5-41c3-bff8-750cd66f00c4",
      "metadata": {
        "id": "4d857368-98f5-41c3-bff8-750cd66f00c4"
      },
      "outputs": [],
      "source": [
        "def test(model, test_loader):\n",
        "  model.eval()\n",
        "  test_predictions = []\n",
        "\n",
        "  with torch.inference_mode():\n",
        "      for i, data in enumerate(tqdm(test_loader)):\n",
        "          data = data.float().to(device)\n",
        "          output = model(data)\n",
        "          test_predictions.append(output.cpu())\n",
        "\n",
        "  return torch.cat(test_predictions, dim=0)"
      ]
    },
    {
      "cell_type": "code",
      "execution_count": null,
      "id": "acf6683a-b846-4ca5-8b0c-56f4b1f98b1c",
      "metadata": {
        "id": "acf6683a-b846-4ca5-8b0c-56f4b1f98b1c",
        "outputId": "032c23f0-55e2-4e51-c787-9158c69ad638"
      },
      "outputs": [
        {
          "name": "stderr",
          "output_type": "stream",
          "text": [
            "100%|██████████| 46/46 [00:01<00:00, 26.59it/s]\n"
          ]
        }
      ],
      "source": [
        "# Save test output npy file\n",
        "predictions = test(model, test_loader)\n",
        "np.save('/data/TEAM_1_RESULT', predictions.numpy())"
      ]
    }
  ],
  "metadata": {
    "kernelspec": {
      "display_name": "pytorch_ai",
      "language": "python",
      "name": "kh_ai"
    },
    "language_info": {
      "codemirror_mode": {
        "name": "ipython",
        "version": 3
      },
      "file_extension": ".py",
      "mimetype": "text/x-python",
      "name": "python",
      "nbconvert_exporter": "python",
      "pygments_lexer": "ipython3",
      "version": "3.11.9"
    },
    "colab": {
      "provenance": [],
      "include_colab_link": true
    }
  },
  "nbformat": 4,
  "nbformat_minor": 5
}